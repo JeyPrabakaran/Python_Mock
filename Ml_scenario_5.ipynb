{
 "cells": [
  {
   "cell_type": "code",
   "execution_count": null,
   "id": "843a18ba-8ec3-4666-97c9-9b2cf06bae28",
   "metadata": {},
   "outputs": [],
   "source": [
    "1️. An insurance company wants to determine the premium amount for customers based on factors like vehicle type, driving history, and past claims.\n",
    " a) What machine learning technique should be used?\n",
    " b) List the steps involved in building the model.\n",
    "2. A bank wants to predict whether a loan applicant is likely to default based on their income, credit history, and previous loans.\n",
    " a) What type of machine learning should be used?\n",
    " b) Describe the steps to train the model.\n",
    "3. A retail store wants to group customers based on purchasing behavior to target them with personalized offers.\n",
    " a) Which ML approach is appropriate?\n",
    " b) Explain the step-by-step process.\n",
    "4. A smart energy company wants to forecast electricity consumption for households based on historical usage and weather conditions.\n",
    " a) Identify the machine learning technique to use.\n",
    " b) Outline the steps to develop the model.\n",
    "5. An e-commerce company wants to detect fraudulent transactions using historical payment data.\n",
    " a) What ML approach is needed?\n",
    " b) Describe the steps involved.\n",
    "6. A streaming platform wants to group movies into categories based on viewer ratings and watch history.\n",
    " a) What machine learning technique is best?\n",
    " b) Explain the process to implement it.\n",
    "7. An online store wants to forecast its future sales revenue based on past sales trends and seasonal variations.\n",
    " a) What ML technique should be used?\n",
    " b) Detail the steps to build the model.\n",
    "8. An email service provider wants to filter spam emails.\n",
    " a) What type of machine learning approach should be used?\n",
    " b) Explain the process step by step.\n",
    "9. A ride-hailing company wants to cluster drivers based on their driving behavior and trip frequency.\n",
    " a) Which ML technique should be applied?\n",
    " b) Describe the steps for implementation.\n",
    "10. A medical research institute wants to predict disease progression based on patient health records.\n",
    " a) What machine learning approach should be used?\n",
    " b) Outline the steps to develop the model.\n",
    "\n",
    "\n"
   ]
  },
  {
   "cell_type": "code",
   "execution_count": null,
   "id": "c6f067c8-e4c0-4c8b-9421-9ed167f94129",
   "metadata": {},
   "outputs": [],
   "source": []
  },
  {
   "cell_type": "code",
   "execution_count": null,
   "id": "501281d0-9be9-49f9-aac4-d8654a4e92e3",
   "metadata": {},
   "outputs": [],
   "source": [
    "1️. An insurance company wants to determine the premium amount for customers\n",
    "based on factors like vehicle type, driving history, and past claims.\n",
    " a) What machine learning technique should be used?\n",
    " b) List the steps involved in building the model.\n",
    "\n",
    "Steps:\n",
    "1. XGBReggressor can be used [RandomForestReggressor as well]\n",
    "2. independent features like vehicletype, driving history, past claims\n",
    "3. dependent should be premium amount\n",
    "4. perform gridserchcv for generalized data\n",
    "5. finetune the paramgrids \n",
    "6. apply XGBRegressor.fit()\n",
    "7. repeat step 5 for better score\n"
   ]
  },
  {
   "cell_type": "code",
   "execution_count": null,
   "id": "cfaa2974-b0a2-4063-8e9f-df4ad772040a",
   "metadata": {},
   "outputs": [],
   "source": [
    "2.A bank wants to predict whether a loan applicant is likely to default based on their income, credit history, and previous loans.\n",
    " a) What type of machine learning should be used?\n",
    " b) Describe the steps to train the model.\n",
    "Steps:\n",
    "1. ML Supervised- Classification problem(defaulter / not a defaulter)\n",
    "2. Take balanced dataset (Use SMOTE or Class_weight= Balanced) because defaulter is minority always\n",
    "3. Separate independent(income, credit history,previous loans) and dependent features(Default) \n",
    "4. separate xtrain,xtest,ytrain,ytest data\n",
    "5. process the data with the algorithms svm,randomforest and naive baise\n",
    "6. create the model and validate the scores to select the best model"
   ]
  },
  {
   "cell_type": "code",
   "execution_count": null,
   "id": "2a865ed1-86ec-4642-9951-f9a2307e0a58",
   "metadata": {},
   "outputs": [],
   "source": [
    "3.A retail store wants to group customers based on purchasing behavior to target them with personalized offers.\n",
    " a) Which ML approach is appropriate?\n",
    " b) Explain the step-by-step process.\n",
    "steps:\n",
    "1. ML unsupervised - clustering model\n",
    "2. Need to be grouped customers by purchase behaviour use k-means or OPTICAL clustering methods\n",
    "3. custimers purchase behaviour should be input(X)\n",
    "4. use elbow or reachability plot to find the maximum cluster\n",
    "5. apply the parameters on kmeans and OPTICS and predict the labels\n"
   ]
  },
  {
   "cell_type": "code",
   "execution_count": null,
   "id": "f9aaa666-371c-4221-9521-02f66b25d278",
   "metadata": {},
   "outputs": [],
   "source": [
    "4. A smart energy company wants to forecast electricity consumption \n",
    "     for households based on historical usage and weather conditions.\n",
    " a) Identify the machine learning technique to use.\n",
    " b) Outline the steps to develop the model.\n",
    "Steps:\n",
    "1. Supervised ML Regression algorithms (Linear regression, Random Forest Regressor, MultipleLinearRegressor)\n"
   ]
  },
  {
   "cell_type": "code",
   "execution_count": null,
   "id": "68a2cedd-b3bc-4c4c-b616-b8f3f2bf079f",
   "metadata": {},
   "outputs": [],
   "source": [
    "5. An e-commerce company wants to detect fraudulent transactions using historical payment data.\n",
    " a) What ML approach is needed?\n",
    " b) Describe the steps involved.\n",
    "Steps:\n",
    "1. ML Supervised Clasification algorithms (Logistic Regression, SVM, RandomForestClassifier)"
   ]
  },
  {
   "cell_type": "code",
   "execution_count": null,
   "id": "ef3f14e4-9b00-4a3e-a578-e6d410c1e6b3",
   "metadata": {},
   "outputs": [],
   "source": [
    "6. A streaming platform wants to group movies into categories based on viewer ratings and watch history.\n",
    " a) What machine learning technique is best?\n",
    "Steps:\n",
    "1. ML Supervised Clasification algorithms (Logistic Regression, SVM, RandomForestClassifier)"
   ]
  },
  {
   "cell_type": "code",
   "execution_count": null,
   "id": "a4f5b9d7-6fdc-4f9f-89b3-8540ed43bee5",
   "metadata": {},
   "outputs": [],
   "source": [
    "7. An online store wants to forecast its future sales revenue based on past sales trends and seasonal variations.\n",
    " a) What ML technique should be used?\n",
    " b) Detail the steps to build the model.\n",
    "Steps\n",
    "     1. Supervised ML Regression algorithms (RamdomForestRegressor/DTRegressor,SVR)"
   ]
  },
  {
   "cell_type": "code",
   "execution_count": null,
   "id": "9688d2ba-55b2-4e04-b727-bbd4f17a1d25",
   "metadata": {},
   "outputs": [],
   "source": [
    "8. An email service provider wants to filter spam emails.\n",
    " a) What type of machine learning approach should be used?\n",
    " b) Explain the process step by step.\n",
    "Steps:\n",
    "1. Supervised ML Classification algorithm - spam/ham\n",
    "2. "
   ]
  },
  {
   "cell_type": "code",
   "execution_count": null,
   "id": "5661be58-2b0b-4671-873f-9b1ac2cdd87a",
   "metadata": {},
   "outputs": [],
   "source": [
    "9. A ride-hailing company wants to cluster drivers based on their driving behavior and trip frequency.\n",
    " a) Which ML technique should be applied?\n",
    " b) Describe the steps for implementation.\n",
    "Steps:\n",
    "1. Unsupervised ML algorithm (DBSCAN or MeanShift algorithm)\n",
    "2.                      "
   ]
  },
  {
   "cell_type": "code",
   "execution_count": null,
   "id": "431182bd-2834-4871-8077-1e77ba0b993b",
   "metadata": {},
   "outputs": [],
   "source": [
    "10.A medical research institute wants to predict disease progression based on patient health records.\n",
    " a) What machine learning approach should be used?\n",
    " b) Outline the steps to develop the model.\n",
    "Steps:\n",
    "1. Unsupervised ML algorithm (DBSCAN or MeanShift algorithm)\n",
    "2. "
   ]
  }
 ],
 "metadata": {
  "kernelspec": {
   "display_name": "Python 3 (ipykernel)",
   "language": "python",
   "name": "python3"
  },
  "language_info": {
   "codemirror_mode": {
    "name": "ipython",
    "version": 3
   },
   "file_extension": ".py",
   "mimetype": "text/x-python",
   "name": "python",
   "nbconvert_exporter": "python",
   "pygments_lexer": "ipython3",
   "version": "3.12.4"
  }
 },
 "nbformat": 4,
 "nbformat_minor": 5
}
