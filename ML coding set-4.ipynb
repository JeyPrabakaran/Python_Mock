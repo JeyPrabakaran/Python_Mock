{
 "cells": [
  {
   "cell_type": "code",
   "execution_count": null,
   "id": "b7d0e4fa",
   "metadata": {},
   "outputs": [],
   "source": [
    "#1.\n",
    "Q1. Create a DataFrame with the following student marks and display students with marks above 80.\n",
    "{'Name': ['Anu', 'Raj', 'Diya', 'Kiran'], 'Marks': [76, 88, 95, 65]}\n",
    "\n",
    "expected Output:\n",
    "    \n",
    "    Name  Marks\n",
    "1   Raj     88\n",
    "2  Diya     95\n"
   ]
  },
  {
   "cell_type": "code",
   "execution_count": 3,
   "id": "02b5d814-f778-4a40-889b-9bd174ee4178",
   "metadata": {},
   "outputs": [
    {
     "name": "stdout",
     "output_type": "stream",
     "text": [
      "   Name  Marks\n",
      "1   Raj     88\n",
      "2  Diya     95\n"
     ]
    }
   ],
   "source": [
    "import pandas as pd\n",
    "data={'Name': ['Anu', 'Raj', 'Diya', 'Kiran'], 'Marks': [76, 88, 95, 65]}\n",
    "df=pd.DataFrame(data)\n",
    "print(df[df['Marks']>80])"
   ]
  },
  {
   "cell_type": "code",
   "execution_count": null,
   "id": "dc85b9d6",
   "metadata": {},
   "outputs": [],
   "source": [
    "#2.Q2. Create a DataFrame and find the mean salary grouped by department.\n",
    "{'Name': ['Amit', 'Sneha', 'Kunal', 'Riya'], 'Department': ['HR', 'IT', 'HR', 'IT'], 'Salary': [30000, 50000, 35000, 52000]}\n",
    "Expected Output:\n",
    "Department\n",
    "HR    32500.0\n",
    "IT    51000.0\n",
    "Name: Salary, dtype: float64\n"
   ]
  },
  {
   "cell_type": "code",
   "execution_count": 4,
   "id": "f8b5c5cb-8f78-4bac-a90b-b719e6d08f3c",
   "metadata": {},
   "outputs": [
    {
     "data": {
      "text/html": [
       "<div>\n",
       "<style scoped>\n",
       "    .dataframe tbody tr th:only-of-type {\n",
       "        vertical-align: middle;\n",
       "    }\n",
       "\n",
       "    .dataframe tbody tr th {\n",
       "        vertical-align: top;\n",
       "    }\n",
       "\n",
       "    .dataframe thead th {\n",
       "        text-align: right;\n",
       "    }\n",
       "</style>\n",
       "<table border=\"1\" class=\"dataframe\">\n",
       "  <thead>\n",
       "    <tr style=\"text-align: right;\">\n",
       "      <th></th>\n",
       "      <th>Department</th>\n",
       "      <th>Salary</th>\n",
       "    </tr>\n",
       "  </thead>\n",
       "  <tbody>\n",
       "    <tr>\n",
       "      <th>0</th>\n",
       "      <td>HR</td>\n",
       "      <td>32500.0</td>\n",
       "    </tr>\n",
       "    <tr>\n",
       "      <th>1</th>\n",
       "      <td>IT</td>\n",
       "      <td>51000.0</td>\n",
       "    </tr>\n",
       "  </tbody>\n",
       "</table>\n",
       "</div>"
      ],
      "text/plain": [
       "  Department   Salary\n",
       "0         HR  32500.0\n",
       "1         IT  51000.0"
      ]
     },
     "execution_count": 4,
     "metadata": {},
     "output_type": "execute_result"
    }
   ],
   "source": [
    "data={'Name': ['Amit', 'Sneha', 'Kunal', 'Riya'], \n",
    "      'Department': ['HR', 'IT', 'HR', 'IT'], \n",
    "      'Salary': [30000, 50000, 35000, 52000]}\n",
    "df=pd.DataFrame(data)\n",
    "mean_sal=df.groupby('Department')['Salary'].mean().reset_index()\n",
    "mean_sal"
   ]
  },
  {
   "cell_type": "code",
   "execution_count": null,
   "id": "108b931b",
   "metadata": {},
   "outputs": [],
   "source": [
    "#3.Q3. Create a DataFrame and apply label encoding to the Gender column.\n",
    "{'Name': ['Arjun', 'Leela', 'Kiran'], 'Gender': ['Male', 'Female', 'Male']}\n",
    "Expected Output:\n",
    "    Name  Gender  Gender_encoded\n",
    "0  Arjun    Male               1\n",
    "1  Leela  Female               0\n",
    "2  Kiran    Male               1\n"
   ]
  },
  {
   "cell_type": "code",
   "execution_count": 11,
   "id": "44ab0c2a-a585-41ff-bf9d-1a5f20677d6a",
   "metadata": {},
   "outputs": [
    {
     "data": {
      "text/html": [
       "<div>\n",
       "<style scoped>\n",
       "    .dataframe tbody tr th:only-of-type {\n",
       "        vertical-align: middle;\n",
       "    }\n",
       "\n",
       "    .dataframe tbody tr th {\n",
       "        vertical-align: top;\n",
       "    }\n",
       "\n",
       "    .dataframe thead th {\n",
       "        text-align: right;\n",
       "    }\n",
       "</style>\n",
       "<table border=\"1\" class=\"dataframe\">\n",
       "  <thead>\n",
       "    <tr style=\"text-align: right;\">\n",
       "      <th></th>\n",
       "      <th>Name</th>\n",
       "      <th>Gender</th>\n",
       "      <th>Gender_encoded</th>\n",
       "    </tr>\n",
       "  </thead>\n",
       "  <tbody>\n",
       "    <tr>\n",
       "      <th>0</th>\n",
       "      <td>Arjun</td>\n",
       "      <td>Male</td>\n",
       "      <td>1</td>\n",
       "    </tr>\n",
       "    <tr>\n",
       "      <th>1</th>\n",
       "      <td>Leela</td>\n",
       "      <td>Female</td>\n",
       "      <td>0</td>\n",
       "    </tr>\n",
       "    <tr>\n",
       "      <th>2</th>\n",
       "      <td>Kiran</td>\n",
       "      <td>Male</td>\n",
       "      <td>1</td>\n",
       "    </tr>\n",
       "  </tbody>\n",
       "</table>\n",
       "</div>"
      ],
      "text/plain": [
       "    Name  Gender  Gender_encoded\n",
       "0  Arjun    Male               1\n",
       "1  Leela  Female               0\n",
       "2  Kiran    Male               1"
      ]
     },
     "execution_count": 11,
     "metadata": {},
     "output_type": "execute_result"
    }
   ],
   "source": [
    "data={'Name': ['Arjun', 'Leela', 'Kiran'], 'Gender': ['Male', 'Female', 'Male']}\n",
    "df=pd.DataFrame(data)\n",
    "from sklearn.preprocessing import LabelEncoder\n",
    "LE=LabelEncoder()\n",
    "Gender_encoded=LE.fit_transform(df['Gender'])\n",
    "df['Gender_encoded']=Gender_encoded\n",
    "df"
   ]
  },
  {
   "cell_type": "code",
   "execution_count": null,
   "id": "5bea0500",
   "metadata": {},
   "outputs": [],
   "source": [
    "#4.🔹Q4. Normalize the 'Score' column using Min-Max scaling.\n",
    "{'Student': ['A', 'B', 'C'], 'Score': [55, 80, 65]}\n",
    "\n",
    "Expected Output:\n",
    "    Student  Score  Normalized_Score\n",
    "0       A     55               0.0\n",
    "1       B     80               1.0\n",
    "2       C     65               0.4\n"
   ]
  },
  {
   "cell_type": "code",
   "execution_count": 13,
   "id": "656070b9-a8c5-469b-8dd3-9b4c29f113d5",
   "metadata": {},
   "outputs": [
    {
     "data": {
      "text/html": [
       "<div>\n",
       "<style scoped>\n",
       "    .dataframe tbody tr th:only-of-type {\n",
       "        vertical-align: middle;\n",
       "    }\n",
       "\n",
       "    .dataframe tbody tr th {\n",
       "        vertical-align: top;\n",
       "    }\n",
       "\n",
       "    .dataframe thead th {\n",
       "        text-align: right;\n",
       "    }\n",
       "</style>\n",
       "<table border=\"1\" class=\"dataframe\">\n",
       "  <thead>\n",
       "    <tr style=\"text-align: right;\">\n",
       "      <th></th>\n",
       "      <th>Student</th>\n",
       "      <th>Score</th>\n",
       "      <th>Normalized_Score</th>\n",
       "    </tr>\n",
       "  </thead>\n",
       "  <tbody>\n",
       "    <tr>\n",
       "      <th>0</th>\n",
       "      <td>A</td>\n",
       "      <td>55</td>\n",
       "      <td>0.0</td>\n",
       "    </tr>\n",
       "    <tr>\n",
       "      <th>1</th>\n",
       "      <td>B</td>\n",
       "      <td>80</td>\n",
       "      <td>1.0</td>\n",
       "    </tr>\n",
       "    <tr>\n",
       "      <th>2</th>\n",
       "      <td>C</td>\n",
       "      <td>65</td>\n",
       "      <td>0.4</td>\n",
       "    </tr>\n",
       "  </tbody>\n",
       "</table>\n",
       "</div>"
      ],
      "text/plain": [
       "  Student  Score  Normalized_Score\n",
       "0       A     55               0.0\n",
       "1       B     80               1.0\n",
       "2       C     65               0.4"
      ]
     },
     "execution_count": 13,
     "metadata": {},
     "output_type": "execute_result"
    }
   ],
   "source": [
    "data={'Student': ['A', 'B', 'C'], 'Score': [55, 80, 65]}\n",
    "df=pd.DataFrame(data)\n",
    "from sklearn.preprocessing import MinMaxScaler\n",
    "mms=MinMaxScaler()\n",
    "Normalized_Score=mms.fit_transform(df[['Score']])\n",
    "df['Normalized_Score']=Normalized_Score\n",
    "df"
   ]
  },
  {
   "cell_type": "code",
   "execution_count": null,
   "id": "d3accae8",
   "metadata": {},
   "outputs": [],
   "source": [
    "#5.\n",
    "Use SVM, RandomForest, and GaussianNB to classify customers as 'Buy' or 'Not Buy' based on Age and Salary.\n",
    "{'Age': [22, 25, 47, 52, 46, 56, 23], 'Salary': [15000, 29000, 48000, 60000, 52000, 61000, 17000], 'Buy': [0, 0, 1, 1, 1, 1, 0]}\n"
   ]
  },
  {
   "cell_type": "code",
   "execution_count": 25,
   "id": "0e459a31",
   "metadata": {},
   "outputs": [
    {
     "ename": "AttributeError",
     "evalue": "'dict' object has no attribute 'fit_transform'",
     "output_type": "error",
     "traceback": [
      "\u001b[1;31m---------------------------------------------------------------------------\u001b[0m",
      "\u001b[1;31mAttributeError\u001b[0m                            Traceback (most recent call last)",
      "Cell \u001b[1;32mIn[25], line 26\u001b[0m\n\u001b[0;32m     21\u001b[0m models\u001b[38;5;241m=\u001b[39m{\n\u001b[0;32m     22\u001b[0m     \u001b[38;5;124m'\u001b[39m\u001b[38;5;124msvm\u001b[39m\u001b[38;5;124m'\u001b[39m:SVC(),\n\u001b[0;32m     23\u001b[0m     \u001b[38;5;124m'\u001b[39m\u001b[38;5;124mNaive\u001b[39m\u001b[38;5;124m'\u001b[39m:GaussianNB()\n\u001b[0;32m     24\u001b[0m }\n\u001b[0;32m     25\u001b[0m \u001b[38;5;28;01mfor\u001b[39;00m model,ypred \u001b[38;5;129;01min\u001b[39;00m models\u001b[38;5;241m.\u001b[39mitems():\n\u001b[1;32m---> 26\u001b[0m     model\u001b[38;5;241m=\u001b[39mmodels\u001b[38;5;241m.\u001b[39mfit_transform(X_train,y_train)\n\u001b[0;32m     27\u001b[0m     ypred\u001b[38;5;241m=\u001b[39mmodels\u001b[38;5;241m.\u001b[39mpredict(X_test)\n",
      "\u001b[1;31mAttributeError\u001b[0m: 'dict' object has no attribute 'fit_transform'"
     ]
    }
   ],
   "source": [
    "data={'Age': [22, 25, 47, 52, 46, 56, 23],\n",
    "      'Salary': [15000, 29000, 48000, 60000, 52000, 61000, 17000],\n",
    "      'Buy': [0, 0, 1, 1, 1, 1, 0]}\n",
    "from sklearn.svm import SVC\n",
    "#from sklearn.tree import RandomForestClassifier\n",
    "from sklearn.naive_bayes import GaussianNB\n",
    "from sklearn.model_selection import train_test_split\n",
    "from sklearn.pipeline import Pipeline\n",
    "\n",
    "df=pd.DataFrame(data)\n",
    "x=df[['Age','Salary']]\n",
    "y=df['Buy']\n",
    "\n",
    "X_train,X_test,y_train,y_test=train_test_split(x,y,test_size=0.3,random_state=45)\n",
    "#pipeline=Pipeline([\n",
    " #   SVC(),\n",
    "#'rfc':RandomForestClassifier(),\n",
    "#GaussianNB()\n",
    "#])\n",
    "#model=pipeline.fit(X_train,y_train)\n",
    "models={\n",
    "    'svm':SVC(),\n",
    "    'Naive':GaussianNB()\n",
    "}\n",
    "for model,ypred in models.items():\n",
    "    model=models.fit_transform(X_train,y_train)\n",
    "    ypred=models.predict(X_test)"
   ]
  },
  {
   "cell_type": "code",
   "execution_count": null,
   "id": "86f15bc6",
   "metadata": {},
   "outputs": [],
   "source": []
  }
 ],
 "metadata": {
  "kernelspec": {
   "display_name": "Python 3 (ipykernel)",
   "language": "python",
   "name": "python3"
  },
  "language_info": {
   "codemirror_mode": {
    "name": "ipython",
    "version": 3
   },
   "file_extension": ".py",
   "mimetype": "text/x-python",
   "name": "python",
   "nbconvert_exporter": "python",
   "pygments_lexer": "ipython3",
   "version": "3.12.4"
  }
 },
 "nbformat": 4,
 "nbformat_minor": 5
}
