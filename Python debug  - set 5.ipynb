{
 "cells": [
  {
   "cell_type": "code",
   "execution_count": null,
   "id": "78847553",
   "metadata": {},
   "outputs": [],
   "source": [
    "#1.What is wrong with the following code?\n",
    "\n",
    "\n",
    "for i in range(5):\n",
    "print(i) # indent is missing\n"
   ]
  },
  {
   "cell_type": "code",
   "execution_count": null,
   "id": "a65c73a9",
   "metadata": {},
   "outputs": [],
   "source": [
    "#2.Question:\n",
    "Identify and fix the syntax error in this code:\n",
    "\n",
    "numbers = [1, 2, 3, 4, 5,) #]bracket should be replaced at the end and ',' to be removed\n"
   ]
  },
  {
   "cell_type": "code",
   "execution_count": null,
   "id": "69778592",
   "metadata": {},
   "outputs": [],
   "source": [
    "#3.What error will occur in this code if the file does not exist?\n",
    "\n",
    "file = open(\"data.txt\", \"r\")\n",
    "print(file.read())\n",
    "file.close() #file not found error\n"
   ]
  },
  {
   "cell_type": "code",
   "execution_count": null,
   "id": "e274aaba",
   "metadata": {},
   "outputs": [],
   "source": [
    "#4.What is wrong with this code?\n",
    "\n",
    "numbers = [10, 20, 30, 40]\n",
    "index = \"2\" #index should be an integer value \n",
    "print(numbers[index])\n"
   ]
  },
  {
   "cell_type": "code",
   "execution_count": null,
   "id": "f2c69863",
   "metadata": {},
   "outputs": [],
   "source": [
    "#5.What is the issue with this function?\n",
    "\n",
    "def is_prime(n):\n",
    "    for i in range(2, n):\n",
    "        if n % i == 0:\n",
    "            return True\n",
    "    return False # return false should be included with else part if not end of the loop for any number the flag is false\n"
   ]
  },
  {
   "cell_type": "code",
   "execution_count": null,
   "id": "53977489",
   "metadata": {},
   "outputs": [],
   "source": [
    "#6.What is the issue with this function?\n",
    "\n",
    "def filter_even(numbers):\n",
    "    return [num for num in numbers if num % 2 == 1] # output will be odd numbers for even number num%2 ==0 should be there\n"
   ]
  },
  {
   "cell_type": "code",
   "execution_count": null,
   "id": "65c60a3f",
   "metadata": {},
   "outputs": [],
   "source": [
    "#7.Question:\n",
    "What will happen when you run this code?\n",
    "\n",
    "numbers = [3, 1, 4, 1, 5, 9]\n",
    "sorted_numbers = numbers.sort()\n",
    "print(sorted_numbers) # output will be [1,1,3,4,5,9]\n",
    "\n"
   ]
  },
  {
   "cell_type": "code",
   "execution_count": null,
   "id": "e482acf2",
   "metadata": {},
   "outputs": [],
   "source": [
    "#8.What is the issue with this function?\n",
    "\n",
    "def sum_numbers(numbers):\n",
    "    total = 1\n",
    "    for num in numbers:\n",
    "        total += num\n",
    "    return total\n"
   ]
  },
  {
   "cell_type": "code",
   "execution_count": null,
   "id": "71f4f151",
   "metadata": {},
   "outputs": [],
   "source": [
    "#9.What is the issue with this recursive function?\n",
    "\n",
    "def factorial(n):\n",
    "    return n * factorial(n-1) # if n==0 return 1 should be there if not fact of anynumber will be zero\n"
   ]
  },
  {
   "cell_type": "code",
   "execution_count": null,
   "id": "88ff0837",
   "metadata": {},
   "outputs": [],
   "source": [
    "#10.What will happen when you run this code?\n",
    "\n",
    "data = {\"name\": \"Alice\", \"age\": 25}\n",
    "data[\"city\"] += \"New York\" # Assigment opeartor should be there instead of +=\n"
   ]
  },
  {
   "cell_type": "code",
   "execution_count": null,
   "id": "cc73c0f3",
   "metadata": {},
   "outputs": [],
   "source": []
  },
  {
   "cell_type": "code",
   "execution_count": null,
   "id": "5d95b45a",
   "metadata": {},
   "outputs": [],
   "source": []
  },
  {
   "cell_type": "code",
   "execution_count": null,
   "id": "8feaf3b2",
   "metadata": {},
   "outputs": [],
   "source": []
  },
  {
   "cell_type": "code",
   "execution_count": null,
   "id": "9691e31a",
   "metadata": {},
   "outputs": [],
   "source": []
  },
  {
   "cell_type": "code",
   "execution_count": null,
   "id": "7ed85400",
   "metadata": {},
   "outputs": [],
   "source": []
  },
  {
   "cell_type": "code",
   "execution_count": null,
   "id": "7a1883fe",
   "metadata": {},
   "outputs": [],
   "source": []
  },
  {
   "cell_type": "code",
   "execution_count": null,
   "id": "67489370",
   "metadata": {},
   "outputs": [],
   "source": []
  },
  {
   "cell_type": "code",
   "execution_count": null,
   "id": "35e487ac",
   "metadata": {},
   "outputs": [],
   "source": []
  },
  {
   "cell_type": "code",
   "execution_count": null,
   "id": "05af998c",
   "metadata": {},
   "outputs": [],
   "source": []
  },
  {
   "cell_type": "code",
   "execution_count": null,
   "id": "eef23ed6",
   "metadata": {},
   "outputs": [],
   "source": []
  },
  {
   "cell_type": "code",
   "execution_count": null,
   "id": "772e63f3",
   "metadata": {},
   "outputs": [],
   "source": []
  },
  {
   "cell_type": "code",
   "execution_count": null,
   "id": "06d85cf3",
   "metadata": {},
   "outputs": [],
   "source": []
  },
  {
   "cell_type": "code",
   "execution_count": null,
   "id": "141e6eb0",
   "metadata": {},
   "outputs": [],
   "source": []
  },
  {
   "cell_type": "code",
   "execution_count": null,
   "id": "556c2305",
   "metadata": {},
   "outputs": [],
   "source": []
  },
  {
   "cell_type": "code",
   "execution_count": null,
   "id": "b8afa16d",
   "metadata": {},
   "outputs": [],
   "source": []
  },
  {
   "cell_type": "code",
   "execution_count": null,
   "id": "154df417",
   "metadata": {},
   "outputs": [],
   "source": []
  },
  {
   "cell_type": "code",
   "execution_count": null,
   "id": "b99daf88",
   "metadata": {},
   "outputs": [],
   "source": []
  },
  {
   "cell_type": "code",
   "execution_count": null,
   "id": "f03248c7",
   "metadata": {},
   "outputs": [],
   "source": []
  },
  {
   "cell_type": "code",
   "execution_count": null,
   "id": "d095cc97",
   "metadata": {},
   "outputs": [],
   "source": []
  },
  {
   "cell_type": "code",
   "execution_count": null,
   "id": "0500daab",
   "metadata": {},
   "outputs": [],
   "source": []
  },
  {
   "cell_type": "code",
   "execution_count": null,
   "id": "07ac98be",
   "metadata": {},
   "outputs": [],
   "source": []
  },
  {
   "cell_type": "code",
   "execution_count": null,
   "id": "f0a10b4a",
   "metadata": {},
   "outputs": [],
   "source": []
  },
  {
   "cell_type": "code",
   "execution_count": null,
   "id": "38b2cc91",
   "metadata": {},
   "outputs": [],
   "source": []
  },
  {
   "cell_type": "code",
   "execution_count": null,
   "id": "0763400e",
   "metadata": {},
   "outputs": [],
   "source": []
  },
  {
   "cell_type": "code",
   "execution_count": null,
   "id": "bbea63a2",
   "metadata": {},
   "outputs": [],
   "source": []
  }
 ],
 "metadata": {
  "kernelspec": {
   "display_name": "Python 3 (ipykernel)",
   "language": "python",
   "name": "python3"
  },
  "language_info": {
   "codemirror_mode": {
    "name": "ipython",
    "version": 3
   },
   "file_extension": ".py",
   "mimetype": "text/x-python",
   "name": "python",
   "nbconvert_exporter": "python",
   "pygments_lexer": "ipython3",
   "version": "3.12.4"
  }
 },
 "nbformat": 4,
 "nbformat_minor": 5
}
