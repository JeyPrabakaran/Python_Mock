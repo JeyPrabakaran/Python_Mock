{
 "cells": [
  {
   "cell_type": "code",
   "execution_count": null,
   "id": "6e20ec34-8f50-4c73-8404-53a6a0bdaf93",
   "metadata": {},
   "outputs": [],
   "source": [
    "Scenario: A program needs to find the second largest number in a given list of\n",
    "numbers.\n",
    "Write logic to find the second largest number in a given list.\n",
    "\n",
    "steps:\n",
    "1. sort the list list.sort()\n",
    "2. using minus indexing print the number list[-2]"
   ]
  },
  {
   "cell_type": "code",
   "execution_count": null,
   "id": "ba4bd8b9-7935-4af1-b5b6-e9d5d4f51c6f",
   "metadata": {},
   "outputs": [],
   "source": [
    "Scenario: A function needs to convert an integer to its binary representation\n",
    "without using Python’s built-in bin() function.\n",
    "Write logic to convert a given integer to its binary representation."
   ]
  },
  {
   "cell_type": "code",
   "execution_count": 5,
   "id": "481c75d4-95c6-47f9-a096-694e698c3e53",
   "metadata": {},
   "outputs": [
    {
     "ename": "KeyboardInterrupt",
     "evalue": "",
     "output_type": "error",
     "traceback": [
      "\u001b[1;31m---------------------------------------------------------------------------\u001b[0m",
      "\u001b[1;31mKeyboardInterrupt\u001b[0m                         Traceback (most recent call last)",
      "Cell \u001b[1;32mIn[5], line 3\u001b[0m\n\u001b[0;32m      1\u001b[0m a\u001b[38;5;241m=\u001b[39m\u001b[38;5;241m5\u001b[39m\n\u001b[0;32m      2\u001b[0m b\u001b[38;5;241m=\u001b[39m[]\n\u001b[1;32m----> 3\u001b[0m \u001b[38;5;28;01mwhile\u001b[39;00m(a\u001b[38;5;241m>\u001b[39m\u001b[38;5;241m0\u001b[39m):\n\u001b[0;32m      4\u001b[0m     binary\u001b[38;5;241m=\u001b[39ma\u001b[38;5;241m%\u001b[39m\u001b[38;5;241m2\u001b[39m\n\u001b[0;32m      5\u001b[0m     b\u001b[38;5;241m.\u001b[39mappend(binary)\n",
      "\u001b[1;31mKeyboardInterrupt\u001b[0m: "
     ]
    }
   ],
   "source": [
    "a=5\n",
    "b=[]\n",
    "while(a>0):\n",
    "    binary=a%2\n",
    "    b.append(binary)\n",
    "    a//2\n",
    "\n",
    "print(b)\n",
    "    \n"
   ]
  },
  {
   "cell_type": "code",
   "execution_count": null,
   "id": "dd4b197b-0621-4d2a-a033-8e7e94e9c213",
   "metadata": {},
   "outputs": [],
   "source": [
    "Scenario: A function needs to merge two sorted lists into a single sorted list\n",
    "efficiently.\n",
    "Write logic to merge two sorted lists into one sorted list.\n",
    "steps:\n",
    "1. iterate the list 2 items using for loop\n",
    "2. append the list 2 items with list1 items\n",
    "3. using set function remove the duplicates"
   ]
  },
  {
   "cell_type": "code",
   "execution_count": 20,
   "id": "f7162399-c9a5-4105-a886-8f53f7e81f7b",
   "metadata": {},
   "outputs": [
    {
     "name": "stdout",
     "output_type": "stream",
     "text": [
      "[1, 2, 3, 4, 5]\n"
     ]
    }
   ],
   "source": [
    "list2=[4,5,1,2]\n",
    "list1=[1,2,3]\n",
    "for i in list2:\n",
    "    list1.append(i)\n",
    "    \n",
    "        \n",
    "print(list(set(list1)))"
   ]
  },
  {
   "cell_type": "code",
   "execution_count": 21,
   "id": "c1de8fc0-6134-4c17-9e0b-99dddb59c4d2",
   "metadata": {},
   "outputs": [
    {
     "ename": "SyntaxError",
     "evalue": "invalid syntax (627175146.py, line 1)",
     "output_type": "error",
     "traceback": [
      "\u001b[1;36m  Cell \u001b[1;32mIn[21], line 1\u001b[1;36m\u001b[0m\n\u001b[1;33m    4. Scenario: A function needs to find the first non-repeating character in a string for\u001b[0m\n\u001b[1;37m       ^\u001b[0m\n\u001b[1;31mSyntaxError\u001b[0m\u001b[1;31m:\u001b[0m invalid syntax\n"
     ]
    }
   ],
   "source": [
    "4. Scenario: A function needs to find the first non-repeating character in a string for\n",
    "text processing.\n",
    "Write logic to find the first non-repeating character in a given string.\n",
    "\n",
    "        \n",
    "\n",
    "                                                                                   "
   ]
  },
  {
   "cell_type": "code",
   "execution_count": 23,
   "id": "7253915a-04df-4acf-b579-531a800a73e3",
   "metadata": {},
   "outputs": [
    {
     "ename": "TypeError",
     "evalue": "list.append() takes exactly one argument (0 given)",
     "output_type": "error",
     "traceback": [
      "\u001b[1;31m---------------------------------------------------------------------------\u001b[0m",
      "\u001b[1;31mTypeError\u001b[0m                                 Traceback (most recent call last)",
      "Cell \u001b[1;32mIn[23], line 8\u001b[0m\n\u001b[0;32m      6\u001b[0m         duplicate\u001b[38;5;241m.\u001b[39mappend()\n\u001b[0;32m      7\u001b[0m     \u001b[38;5;28;01melse\u001b[39;00m:\n\u001b[1;32m----> 8\u001b[0m         noduplicate\u001b[38;5;241m.\u001b[39mappend()\n\u001b[0;32m     10\u001b[0m \u001b[38;5;28mprint\u001b[39m(duplicate)\n\u001b[0;32m     11\u001b[0m \u001b[38;5;28mprint\u001b[39m(noduplicate)\n",
      "\u001b[1;31mTypeError\u001b[0m: list.append() takes exactly one argument (0 given)"
     ]
    }
   ],
   "source": [
    "str='Pppraaabbbhhhu'\n",
    "duplicate=[]\n",
    "noduplicate=[]\n",
    "for i in str:\n",
    "    if i in noduplicate:\n",
    "        duplicate.append()\n",
    "    else:\n",
    "        noduplicate.append()\n",
    "\n",
    "print(duplicate)\n",
    "print(noduplicate)"
   ]
  },
  {
   "cell_type": "code",
   "execution_count": null,
   "id": "fc3d0989-bc7c-43a6-ab98-c1a202d9d180",
   "metadata": {},
   "outputs": [],
   "source": [
    "5. Scenario: A program needs to identify common elements between two lists for\n",
    "data filtering.\n",
    "Write logic to find the common elements between two lists.\n",
    "steps:\n",
    "1. iterate the list items using for loop from the first list\n",
    "2. using if condition compare with the second list item\n",
    "3. append with common list item if exists in the second list\n",
    "#list2=[1,2,3,4]\n",
    "#list1=[1,2,3]\n",
    "#common=[]\n",
    "\n",
    "#for i in list1:\n",
    "#    if i in list2:\n",
    "#        common.append(i)\n",
    "\n",
    "#print(common)"
   ]
  },
  {
   "cell_type": "code",
   "execution_count": 1,
   "id": "d8823728-9c0d-407a-8cd4-d04610975b0a",
   "metadata": {},
   "outputs": [
    {
     "ename": "SyntaxError",
     "evalue": "invalid syntax (3274443525.py, line 1)",
     "output_type": "error",
     "traceback": [
      "\u001b[1;36m  Cell \u001b[1;32mIn[1], line 1\u001b[1;36m\u001b[0m\n\u001b[1;33m    6. Scenario: A function is required to reverse a given number.\u001b[0m\n\u001b[1;37m       ^\u001b[0m\n\u001b[1;31mSyntaxError\u001b[0m\u001b[1;31m:\u001b[0m invalid syntax\n"
     ]
    }
   ],
   "source": [
    "6. Scenario: A function is required to reverse a given number.\n",
    "Write logic to reverse a given number.\n",
    "\n",
    "Steps:\n",
    "1. divide the number using modulo operator to get the reminder %\n",
    "2. keep the digit in a varriable\n",
    "3. divide the number using // operator to get the quotient \n",
    "4. repeat the process until the number >0"
   ]
  },
  {
   "cell_type": "code",
   "execution_count": null,
   "id": "3f543062-78d1-4aab-ba22-9e1c3fbbde20",
   "metadata": {},
   "outputs": [],
   "source": [
    "7. Scenario: A program needs to count the number of words in a given sentence.\n",
    "Write logic to count the number of words in a given sentence.\n",
    "steps:\n",
    "1. split the sentence using str.split function\n",
    "2. splitted word will be in a list\n",
    "3. using len of list or counter variable could find the word counts in the sentence\n"
   ]
  },
  {
   "cell_type": "code",
   "execution_count": null,
   "id": "b0a2fe04-1433-4641-b56b-f3008c42a42f",
   "metadata": {},
   "outputs": [],
   "source": [
    "8. Scenario: A function needs to compute the factorial of a number using iteration\n",
    "instead of recursion.Write logic to find the factorial of a given number using iteration.\n",
    "Steps:\n",
    "1. using while condtion n>0\n",
    "2. return n*(n-1)"
   ]
  },
  {
   "cell_type": "code",
   "execution_count": null,
   "id": "c45b27ac-c06f-41ad-b1e4-d6425edccccb",
   "metadata": {},
   "outputs": [],
   "source": [
    "9. Scenario: A program is required to convert all strings in a list to uppercase.\n",
    "Write logic to convert all strings in a list to uppercase.\n",
    "steps:\n",
    "1. iterate using for loop to get the individual words\n",
    "2. convert using .upper()\n",
    "#list1=['Hi','hello']\n",
    "#for i in list1:\n",
    "   # print(i.upper())"
   ]
  },
  {
   "cell_type": "code",
   "execution_count": null,
   "id": "e160defd-086b-4749-a427-7c6be5f310cb",
   "metadata": {},
   "outputs": [],
   "source": [
    "10. Scenario: A function is needed to compute the greatest common divisor (GCD)\n",
    "of two numbers using the Euclidean algorithm.\n",
    "Write logic to calculate the GCD of two numbers using the Euclidean algorithm."
   ]
  },
  {
   "cell_type": "code",
   "execution_count": null,
   "id": "8f57f81e-e610-4d50-9a5e-83ae219119d2",
   "metadata": {},
   "outputs": [],
   "source": [
    "#2. Find the Sum of Digits of a Number\n",
    "Question: Write a Python program to find the sum of the digits of the number 987.\n"
   ]
  },
  {
   "cell_type": "code",
   "execution_count": 24,
   "id": "c75cae87-a85c-4309-b0a3-12831cbe434c",
   "metadata": {},
   "outputs": [
    {
     "name": "stdout",
     "output_type": "stream",
     "text": [
      "24\n"
     ]
    }
   ],
   "source": [
    "num=987\n",
    "sum=0\n",
    "while(num>0):\n",
    "    digit=num%10\n",
    "    sum=sum+digit\n",
    "    num=num//10\n",
    "\n",
    "print(sum)"
   ]
  },
  {
   "cell_type": "code",
   "execution_count": null,
   "id": "2a9a1a9e-f9ee-4952-a4c1-daa7b4a9b350",
   "metadata": {},
   "outputs": [],
   "source": [
    "#3. Find All Armstrong Numbers Between 1 and 1000\n",
    "Question: Write a Python program to print all Armstrong numbers between 1 and 1000.\n"
   ]
  },
  {
   "cell_type": "code",
   "execution_count": null,
   "id": "3a9fb5e5-8ba0-4617-ac7e-635fe395a554",
   "metadata": {},
   "outputs": [],
   "source": [
    "#4.Count the Frequency of Each Character in a String\n",
    "Question: Write a Python program to count the frequency of each character in \"programming\".\n",
    "\n"
   ]
  },
  {
   "cell_type": "code",
   "execution_count": 32,
   "id": "22d0481f-6e3c-46c1-b6ee-c3c658474f8c",
   "metadata": {},
   "outputs": [
    {
     "name": "stdout",
     "output_type": "stream",
     "text": [
      "p 1 \n",
      "\n",
      "r 2 \n",
      "\n",
      "o 1 \n",
      "\n",
      "g 2 \n",
      "\n",
      "r 1 \n",
      "\n",
      "a 1 \n",
      "\n",
      "m 2 \n",
      "\n",
      "m 1 \n",
      "\n",
      "i 1 \n",
      "\n",
      "n 1 \n",
      "\n",
      "g 1 \n",
      "\n"
     ]
    }
   ],
   "source": [
    "#Answer 4\n",
    "str1='programming'\n",
    "#count=1\n",
    "for i in range(len(str1)):\n",
    "    count=1\n",
    "    for j in range(i+1,len(str1)):\n",
    "        if str1[i]==str1[j]:\n",
    "            count=count+1\n",
    "    print(str1[i],count,'\\n')\n",
    "#count=1\n",
    "    "
   ]
  },
  {
   "cell_type": "code",
   "execution_count": null,
   "id": "128da07e-1fe1-478c-87bb-095b12ebf3d2",
   "metadata": {},
   "outputs": [],
   "source": [
    "#5. Generate a List of Squares of Numbers from 1 to 10\n",
    "Question: Write a Python program to generate a list containing squares of numbers from 1 to 10.\n"
   ]
  },
  {
   "cell_type": "code",
   "execution_count": 26,
   "id": "573cf64d-5571-4da0-903a-33a03bf13654",
   "metadata": {},
   "outputs": [
    {
     "name": "stdout",
     "output_type": "stream",
     "text": [
      "[1, 4, 9, 16, 25, 36, 49, 64, 81, 100]\n"
     ]
    }
   ],
   "source": [
    "#Answer 5\n",
    "num=10\n",
    "list1=[]\n",
    "for i in range(1,num+1):\n",
    "    list1.append(i*i)\n",
    "\n",
    "print(list1)\n",
    "    "
   ]
  },
  {
   "cell_type": "code",
   "execution_count": null,
   "id": "6a94d4a5-1987-4684-a590-18115bf131d6",
   "metadata": {},
   "outputs": [],
   "source": []
  },
  {
   "cell_type": "code",
   "execution_count": null,
   "id": "a22ed95c-d301-4c6b-9663-766eb3ff297b",
   "metadata": {},
   "outputs": [],
   "source": []
  },
  {
   "cell_type": "code",
   "execution_count": null,
   "id": "36e86dcf-4acd-4852-8deb-bdd437416ef7",
   "metadata": {},
   "outputs": [],
   "source": []
  }
 ],
 "metadata": {
  "kernelspec": {
   "display_name": "Python 3 (ipykernel)",
   "language": "python",
   "name": "python3"
  },
  "language_info": {
   "codemirror_mode": {
    "name": "ipython",
    "version": 3
   },
   "file_extension": ".py",
   "mimetype": "text/x-python",
   "name": "python",
   "nbconvert_exporter": "python",
   "pygments_lexer": "ipython3",
   "version": "3.12.4"
  }
 },
 "nbformat": 4,
 "nbformat_minor": 5
}
