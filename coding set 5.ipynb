{
 "cells": [
  {
   "cell_type": "code",
   "execution_count": null,
   "id": "a2bfbf44",
   "metadata": {},
   "outputs": [],
   "source": [
    "#1. Convert a List of Strings to Uppercase\n",
    "Question: Write a Python program to convert all strings in the list [\"apple\", \"banana\", \"cherry\"] to uppercase.\n",
    "\n"
   ]
  },
  {
   "cell_type": "code",
   "execution_count": 2,
   "id": "d5fcdaab-1f14-44e8-9fcd-6abbf6103782",
   "metadata": {},
   "outputs": [
    {
     "name": "stdout",
     "output_type": "stream",
     "text": [
      "['APPLE', 'BANANA', 'CHERRY']\n"
     ]
    }
   ],
   "source": [
    "list1=[\"apple\", \"banana\", \"cherry\"]\n",
    "res=[i.upper() for i in list1]\n",
    "print(res)"
   ]
  },
  {
   "cell_type": "code",
   "execution_count": null,
   "id": "d73fd504",
   "metadata": {},
   "outputs": [],
   "source": [
    "#2. Merge Two Dictionaries\n",
    "Question: Write a Python program to merge two dictionaries:\n",
    "\n",
    "dict1 = {'a': 10, 'b': 20}  \n",
    "dict2 = {'c': 30, 'd': 40}\n"
   ]
  },
  {
   "cell_type": "code",
   "execution_count": 4,
   "id": "33bf5559-c0e2-4e39-bea9-58e1d8303790",
   "metadata": {},
   "outputs": [
    {
     "name": "stdout",
     "output_type": "stream",
     "text": [
      "{'a': 10, 'b': 20, 'c': 30, 'd': 40}\n"
     ]
    }
   ],
   "source": [
    "dict1 = {'a': 10, 'b': 20}  \n",
    "dict2 = {'c': 30, 'd': 40}\n",
    "dict3=dict1 | dict2\n",
    "print(dict3)"
   ]
  },
  {
   "cell_type": "code",
   "execution_count": 6,
   "id": "86dc2aa1",
   "metadata": {},
   "outputs": [
    {
     "ename": "SyntaxError",
     "evalue": "invalid syntax (3003302480.py, line 2)",
     "output_type": "error",
     "traceback": [
      "\u001b[1;36m  Cell \u001b[1;32mIn[6], line 2\u001b[1;36m\u001b[0m\n\u001b[1;33m    Question: Write a Python program to find the common elements between the two lists:\u001b[0m\n\u001b[1;37m                    ^\u001b[0m\n\u001b[1;31mSyntaxError\u001b[0m\u001b[1;31m:\u001b[0m invalid syntax\n"
     ]
    }
   ],
   "source": [
    "#3. Find the Intersection of Two Lists\n",
    "Question: Write a Python program to find the common elements between the two lists:\n",
    "\n",
    "\n",
    "list1 = [1, 2, 3, 4, 5]  \n",
    "list2 = [4, 5, 6, 7, 8]\n",
    "list3=list1.set.intersection(list2)\n",
    "print(list3)\n"
   ]
  },
  {
   "cell_type": "code",
   "execution_count": 9,
   "id": "2d218a51-18aa-4c61-b4fe-b9761b902a59",
   "metadata": {},
   "outputs": [
    {
     "name": "stdout",
     "output_type": "stream",
     "text": [
      "{4, 5}\n"
     ]
    }
   ],
   "source": [
    "list1 = [1, 2, 3, 4, 5]  \n",
    "list2 = [4, 5, 6, 7, 8]\n",
    "list3=set(list1).intersection(list2)\n",
    "print(list3)"
   ]
  },
  {
   "cell_type": "code",
   "execution_count": null,
   "id": "1e2f6e55",
   "metadata": {},
   "outputs": [],
   "source": [
    "#4. Find the Length of Each Word in a Sentence\n",
    "Question: Write a Python program to print the length of each word in the sentence \"Python is fun and powerful\".\n"
   ]
  },
  {
   "cell_type": "code",
   "execution_count": 15,
   "id": "6b45aed8-236f-461f-817a-08ae30a9987d",
   "metadata": {},
   "outputs": [
    {
     "name": "stdout",
     "output_type": "stream",
     "text": [
      "Python  :6\n",
      "is  :2\n",
      "fun  :3\n",
      "and  :3\n",
      "powerful  :8\n"
     ]
    }
   ],
   "source": [
    "sen=\"Python is fun and powerful\"\n",
    "word=sen.split()\n",
    "for i in word:\n",
    "    print(i,' :'+str(len(i)))\n"
   ]
  },
  {
   "cell_type": "code",
   "execution_count": 17,
   "id": "6c7c45d2",
   "metadata": {},
   "outputs": [
    {
     "ename": "SyntaxError",
     "evalue": "invalid decimal literal (4122312853.py, line 2)",
     "output_type": "error",
     "traceback": [
      "\u001b[1;36m  Cell \u001b[1;32mIn[17], line 2\u001b[1;36m\u001b[0m\n\u001b[1;33m    Question: Write a Python program to find the sum of all elements in the 2D list:\u001b[0m\n\u001b[1;37m                                                                            ^\u001b[0m\n\u001b[1;31mSyntaxError\u001b[0m\u001b[1;31m:\u001b[0m invalid decimal literal\n"
     ]
    }
   ],
   "source": [
    "#5. Find the Sum of All Elements in a 2D List\n",
    "Question: Write a Python program to find the sum of all elements in the 2D list:\n",
    "\n",
    "\n",
    "matrix = [[1, 2, 3], [4, 5, 6], [7, 8, 9]]\n",
    "fla\n"
   ]
  },
  {
   "cell_type": "code",
   "execution_count": null,
   "id": "283f415e-61b8-41f6-95a5-5c967b29a158",
   "metadata": {},
   "outputs": [],
   "source": [
    "matrix = [[1, 2, 3], [4, 5, 6], [7, 8, 9]]\n",
    "import numpy as np\n"
   ]
  }
 ],
 "metadata": {
  "kernelspec": {
   "display_name": "Python 3 (ipykernel)",
   "language": "python",
   "name": "python3"
  },
  "language_info": {
   "codemirror_mode": {
    "name": "ipython",
    "version": 3
   },
   "file_extension": ".py",
   "mimetype": "text/x-python",
   "name": "python",
   "nbconvert_exporter": "python",
   "pygments_lexer": "ipython3",
   "version": "3.12.4"
  }
 },
 "nbformat": 4,
 "nbformat_minor": 5
}
