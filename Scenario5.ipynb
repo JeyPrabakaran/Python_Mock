{
 "cells": [
  {
   "cell_type": "code",
   "execution_count": null,
   "id": "bafa9ec9-6c1d-4b8c-87a2-a0c510934098",
   "metadata": {},
   "outputs": [],
   "source": [
    "2.\tScenario: A system needs to convert a Roman numeral string into its integer equivalent for numerical processing.\n",
    " Write logic to convert a given Roman numeral string into an integer.\n",
    "3.\tScenario: A text-processing application analyzes a list of words to find the longest common prefix.\n",
    " Write logic to find the longest common prefix among a list of strings.\n",
    "4.\tScenario: A calculator program takes two numbers and an operator to perform a mathematical operation.\n",
    " Write logic to take two numbers and an operator (+, -, *, /) and perform the corresponding operation.\n",
    "5.\tScenario: A lottery system assigns special numbers where Armstrong numbers have a special significance.\n",
    " Write logic to check whether a given number is an Armstrong number.\n",
    "6.\tScenario: A task management application allows users to add, remove, and view tasks in a to-do list.\n",
    " Write logic to implement a to-do list where users can add, remove, and view tasks.\n",
    "7.\tScenario: A weather application requires a function to convert temperature between Celsius and Fahrenheit.\n",
    " Write logic to convert a given temperature from Celsius to Fahrenheit and vice versa.\n",
    "8.\tScenario: A security system needs to verify whether a given string has all unique characters.\n",
    " Write logic to check whether all characters in a given string are unique.\n",
    "9.\tScenario: A text analyzer tool identifies the longest word in a given sentence for readability analysis.\n",
    " Write logic to find the longest word in a given sentence.\n"
   ]
  },
  {
   "cell_type": "code",
   "execution_count": null,
   "id": "8baa5523-0374-43de-8eff-20ae9b90a98a",
   "metadata": {},
   "outputs": [],
   "source": []
  },
  {
   "cell_type": "code",
   "execution_count": null,
   "id": "7f21e340-9d63-41d3-8b1e-5720b0ff0d2f",
   "metadata": {},
   "outputs": [],
   "source": [
    "2.Scenario: A system needs to convert a Roman numeral string into its integer equivalent for numerical processing.\n",
    " Write logic to convert a given Roman numeral string into an integer.\n",
    "\n"
   ]
  },
  {
   "cell_type": "code",
   "execution_count": null,
   "id": "f59c5cd9-504f-4af4-a4d3-7200573859c2",
   "metadata": {},
   "outputs": [],
   "source": [
    "roman={'i':1,'ii':2,'iii':3}\n",
    "num=ii"
   ]
  },
  {
   "cell_type": "code",
   "execution_count": null,
   "id": "390ab52f-867d-4b20-9a4b-e855805c9c35",
   "metadata": {},
   "outputs": [],
   "source": [
    "3.Scenario: A text-processing application analyzes a list of words to find the longest common prefix.\n",
    " Write logic to find the longest common prefix among a list of strings."
   ]
  },
  {
   "cell_type": "code",
   "execution_count": 19,
   "id": "f813065a-adc3-4ddd-aa49-930dcc8b6d9b",
   "metadata": {},
   "outputs": [
    {
     "name": "stdout",
     "output_type": "stream",
     "text": [
      "['aaab', 'aab', 'ab']\n",
      "0\n"
     ]
    }
   ],
   "source": [
    "#answer3\n",
    "sen='aaab aab ab'\n",
    "prefix='a'\n",
    "word=sen.split()\n",
    "print(word)\n"
   ]
  },
  {
   "cell_type": "code",
   "execution_count": null,
   "id": "9e757fb4-07af-40a1-af18-fd2f6d31edec",
   "metadata": {},
   "outputs": [],
   "source": [
    "4.\tScenario: A calculator program takes two numbers and an operator to perform a mathematical operation.\n",
    " Write logic to take two numbers and an operator (+, -, *, /) and perform the corresponding operation.\n"
   ]
  },
  {
   "cell_type": "code",
   "execution_count": 36,
   "id": "0e809a1c-29d4-466f-a69a-6668c80058e9",
   "metadata": {},
   "outputs": [
    {
     "ename": "IndentationError",
     "evalue": "unindent does not match any outer indentation level (<string>, line 9)",
     "output_type": "error",
     "traceback": [
      "\u001b[1;36m  File \u001b[1;32m<string>:9\u001b[1;36m\u001b[0m\n\u001b[1;33m    if (c=='*'):\u001b[0m\n\u001b[1;37m                ^\u001b[0m\n\u001b[1;31mIndentationError\u001b[0m\u001b[1;31m:\u001b[0m unindent does not match any outer indentation level\n"
     ]
    }
   ],
   "source": [
    "\n",
    "\n"
   ]
  },
  {
   "cell_type": "code",
   "execution_count": null,
   "id": "b30bf26d-1021-4956-bd5a-7b3e515f8920",
   "metadata": {},
   "outputs": [],
   "source": [
    "5.\tScenario: A lottery system assigns special numbers where Armstrong numbers have a special significance.\n",
    " Write logic to check whether a given number is an Armstrong number."
   ]
  },
  {
   "cell_type": "code",
   "execution_count": 10,
   "id": "dc9a012a-8bd7-4cd5-bf4c-91b2b4fe8a8b",
   "metadata": {},
   "outputs": [
    {
     "name": "stdout",
     "output_type": "stream",
     "text": [
      "Not armstrong number\n"
     ]
    }
   ],
   "source": [
    "#Answer5\n",
    "original=123\n",
    "num=original\n",
    "arm=0\n",
    "while(num>0):\n",
    "    digit=num%10\n",
    "    arm=arm+digit*digit*digit\n",
    "    num=num//10\n",
    "\n",
    "if original==arm:\n",
    "    print('Armstrong number')\n",
    "else:\n",
    "    print('Not armstrong number')\n"
   ]
  },
  {
   "cell_type": "code",
   "execution_count": null,
   "id": "8699675d-075c-4f92-ae23-63a363975596",
   "metadata": {},
   "outputs": [],
   "source": [
    "6.\tScenario: A task management application allows users to add, remove, and view tasks in a to-do list.\n",
    " Write logic to implement a to-do list where users can add, remove, and view tasks."
   ]
  },
  {
   "cell_type": "code",
   "execution_count": 7,
   "id": "68745482-218e-477e-ab37-619e71857cb2",
   "metadata": {},
   "outputs": [
    {
     "name": "stdout",
     "output_type": "stream",
     "text": [
      "['read', 'write', 'sleep', 'play']\n",
      "['read', 'sleep', 'play']\n"
     ]
    }
   ],
   "source": [
    "#answer6\n",
    "todolist=['read','write','sleep']\n",
    "todolist.append('play')\n",
    "print(todolist)\n",
    "todolist.remove('write')\n",
    "print(todolist)\n"
   ]
  },
  {
   "cell_type": "code",
   "execution_count": null,
   "id": "cb4ebc8c-6bf3-4cac-8779-386d49312062",
   "metadata": {},
   "outputs": [],
   "source": [
    "7.\tScenario: A weather application requires a function to convert temperature between Celsius and Fahrenheit.\n",
    " Write logic to convert a given temperature from Celsius to Fahrenheit and vice versa.\n",
    "\n",
    "1. steps: \n",
    "1. store the temp diff value in a varible\n",
    "2. if value entered in celcius means add the tempdiff value to convert to Fahrenheir\n",
    "3. if value entered in Fahrenheit means subract the tempdiff value to convert celcius"
   ]
  },
  {
   "cell_type": "code",
   "execution_count": null,
   "id": "9f72fd24-b1d2-4044-84e5-53d4c5f96075",
   "metadata": {},
   "outputs": [],
   "source": []
  },
  {
   "cell_type": "code",
   "execution_count": null,
   "id": "734d078a-1103-4a04-bf1e-2a6624f0c550",
   "metadata": {},
   "outputs": [],
   "source": [
    "8.\tScenario: A security system needs to verify whether a given string has all unique characters.\n",
    " Write logic to check whether all characters in a given string are unique."
   ]
  },
  {
   "cell_type": "code",
   "execution_count": 6,
   "id": "b5d04174-b63a-4083-8137-8cc96fe4d86a",
   "metadata": {},
   "outputs": [
    {
     "name": "stdout",
     "output_type": "stream",
     "text": [
      "Password has duplicate characters\n"
     ]
    }
   ],
   "source": [
    "#8 Answer\n",
    "password='Alliswell'\n",
    "unique=set(password)\n",
    "if(len(password)==len(unique)):\n",
    "    print('Password has unique letters')\n",
    "else:\n",
    "    print('Password has duplicate characters')"
   ]
  },
  {
   "cell_type": "code",
   "execution_count": null,
   "id": "f453f91c-4f9a-4a11-9d5d-b75ba8155256",
   "metadata": {},
   "outputs": [],
   "source": [
    "9.\tScenario: A text analyzer tool identifies the longest word in a given sentence for readability analysis.\n",
    " Write logic to find the longest word in a given sentence.\n",
    "\n"
   ]
  },
  {
   "cell_type": "code",
   "execution_count": 5,
   "id": "36136dab-f49c-4b7f-8d60-9397c659b6ee",
   "metadata": {},
   "outputs": [
    {
     "name": "stdout",
     "output_type": "stream",
     "text": [
      "The siven sentence: Python is aweswome\n",
      "Max length word is \"aweswome\" and the maximum length is \"8\"\n"
     ]
    }
   ],
   "source": [
    "#9 Answer \n",
    "sen='Python is aweswome'\n",
    "word=sen.split()\n",
    "maxi=0\n",
    "maxword=''\n",
    "for i in word:\n",
    "    if len(i)>maxi:\n",
    "        maxi=len(i)\n",
    "        maxword=i\n",
    "print('The siven sentence:',sen)\n",
    "print(f'Max length word is \"{maxword}\" and the maximum length is \"{maxi}\"')\n",
    "        "
   ]
  },
  {
   "cell_type": "code",
   "execution_count": null,
   "id": "5a8b77e0-0079-480c-bce3-f4d4363d19d3",
   "metadata": {},
   "outputs": [],
   "source": []
  }
 ],
 "metadata": {
  "kernelspec": {
   "display_name": "Python 3 (ipykernel)",
   "language": "python",
   "name": "python3"
  },
  "language_info": {
   "codemirror_mode": {
    "name": "ipython",
    "version": 3
   },
   "file_extension": ".py",
   "mimetype": "text/x-python",
   "name": "python",
   "nbconvert_exporter": "python",
   "pygments_lexer": "ipython3",
   "version": "3.12.4"
  }
 },
 "nbformat": 4,
 "nbformat_minor": 5
}
